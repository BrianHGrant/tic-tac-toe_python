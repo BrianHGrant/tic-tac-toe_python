{
 "cells": [
  {
   "cell_type": "code",
   "execution_count": 16,
   "metadata": {
    "collapsed": false
   },
   "outputs": [],
   "source": [
    "class Board():\n",
    "    spaces = []\n",
    "    def __init__(self):\n",
    "        for num in xrange(0,10):\n",
    "            self.spaces.append(' ')\n",
    "    def placeBoard(self, space, player):\n",
    "        self.spaces[space] = player\n",
    "    def printBoard(self):\n",
    "        print (self.spaces[0] + \"|\" + self.spaces[1] + \"|\" + self.spaces[2])\n",
    "        print ('-----')\n",
    "        print (self.spaces[3] + \"|\" + self.spaces[4] + \"|\" + self.spaces[5])\n",
    "        print ('-----')\n",
    "        print (self.spaces[6] + \"|\" + self.spaces[7] + \"|\" + self.spaces[8])\n",
    "    def checkWin(self):\n",
    "        if(self.spaces[0] == self.spaces[1] == self.spaces[2] and self.spaces[0] != ' '):\n",
    "            return True\n",
    "        elif(self.spaces[3] == self.spaces[4] == self.spaces[5] and self.spaces[3] != ' '):\n",
    "            return True\n",
    "        elif(self.spaces[6] == self.spaces[7] == self.spaces[8] and self.spaces[6] != ' '):\n",
    "            return True\n",
    "        elif(self.spaces[0] == self.spaces[3] == self.spaces[6] and self.spaces[0] != ' '):\n",
    "            return True\n",
    "        elif(self.spaces[1] == self.spaces[4] == self.spaces[7] and self.spaces[1] != ' '):\n",
    "            return True\n",
    "        elif(self.spaces[2] == self.spaces[5] == self.spaces[8] and self.spaces[6] != ' '):\n",
    "            return True\n",
    "        elif(self.spaces[0] == self.spaces[4] == self.spaces[8] and self.spaces[0] != ' '):\n",
    "            return True\n",
    "        elif(self.spaces[2] == self.spaces[4] == self.spaces[6] and self.spaces[6] != ' '):\n",
    "            return True\n",
    "        else:\n",
    "            return False"
   ]
  },
  {
   "cell_type": "code",
   "execution_count": 17,
   "metadata": {
    "collapsed": true
   },
   "outputs": [],
   "source": [
    "class Player():\n",
    "    def __init__(self, name):\n",
    "        self.name = name\n",
    "        self.moves = []\n",
    "    def move(self, space):\n",
    "        self.moves.append(space)"
   ]
  },
  {
   "cell_type": "code",
   "execution_count": 18,
   "metadata": {
    "collapsed": false
   },
   "outputs": [],
   "source": [
    "class Game():\n",
    "    board = Board()\n",
    "    player_X = Player(\"X\")\n",
    "    player_O = Player(\"O\")\n",
    "    won = False\n",
    "    turn = 0\n",
    "    \n",
    "    def takeTurn(self):\n",
    "        self.turn += 1\n",
    "        move = input('Player X Move: ')\n",
    "        if (self.board.spaces[move] != 'X' and self.board.spaces[move] != 'O'):\n",
    "            self.player_X.move(move)\n",
    "            self.board.placeBoard(move, self.player_X.name)\n",
    "            self.board.printBoard()\n",
    "            if (self.board.checkWin() == True):\n",
    "                self.won = True\n",
    "                self.winning_player = self.player_X\n",
    "        if (self.won != True):\n",
    "            move = input('Player O Move: ')\n",
    "            if (self.board.spaces[move] != 'X' and self.board.spaces[move] != 'O'):\n",
    "                self.player_O.move(move)\n",
    "                self.board.placeBoard(move, self.player_O.name)\n",
    "                self.board.printBoard()\n",
    "                if (self.board.checkWin() == True):\n",
    "                    self.won = True\n",
    "                    self.winning_player = self.player_O"
   ]
  },
  {
   "cell_type": "code",
   "execution_count": 19,
   "metadata": {
    "collapsed": true
   },
   "outputs": [],
   "source": [
    "def playGame():\n",
    "    new_game = Game()\n",
    "    new_game.board.printBoard()\n",
    "    while (new_game.won == False and new_game.turn != 5):\n",
    "        new_game.takeTurn()\n",
    "    print new_game.winning_player.name + \" Won!!!\""
   ]
  },
  {
   "cell_type": "code",
   "execution_count": 20,
   "metadata": {
    "collapsed": false
   },
   "outputs": [
    {
     "name": "stdout",
     "output_type": "stream",
     "text": [
      " | | \n",
      "-----\n",
      " | | \n",
      "-----\n",
      " | | \n",
      "Player X Move: 0\n",
      "X| | \n",
      "-----\n",
      " | | \n",
      "-----\n",
      " | | \n",
      "Player O Move: 1\n",
      "X|O| \n",
      "-----\n",
      " | | \n",
      "-----\n",
      " | | \n",
      "Player X Move: 4\n",
      "X|O| \n",
      "-----\n",
      " |X| \n",
      "-----\n",
      " | | \n",
      "Player O Move: 8\n",
      "X|O| \n",
      "-----\n",
      " |X| \n",
      "-----\n",
      " | |O\n",
      "Player X Move: 2\n",
      "X|O|X\n",
      "-----\n",
      " |X| \n",
      "-----\n",
      " | |O\n",
      "Player O Move: 3\n",
      "X|O|X\n",
      "-----\n",
      "O|X| \n",
      "-----\n",
      " | |O\n",
      "Player X Move: 6\n",
      "X|O|X\n",
      "-----\n",
      "O|X| \n",
      "-----\n",
      "X| |O\n",
      "X Won!!!\n"
     ]
    }
   ],
   "source": [
    "\n",
    "playGame()"
   ]
  },
  {
   "cell_type": "markdown",
   "metadata": {
    "collapsed": false
   },
   "source": [
    "\n"
   ]
  },
  {
   "cell_type": "code",
   "execution_count": null,
   "metadata": {
    "collapsed": true
   },
   "outputs": [],
   "source": []
  },
  {
   "cell_type": "code",
   "execution_count": null,
   "metadata": {
    "collapsed": true
   },
   "outputs": [],
   "source": []
  }
 ],
 "metadata": {
  "anaconda-cloud": {},
  "kernelspec": {
   "display_name": "Python [default]",
   "language": "python",
   "name": "python2"
  },
  "language_info": {
   "codemirror_mode": {
    "name": "ipython",
    "version": 2
   },
   "file_extension": ".py",
   "mimetype": "text/x-python",
   "name": "python",
   "nbconvert_exporter": "python",
   "pygments_lexer": "ipython2",
   "version": "2.7.12"
  }
 },
 "nbformat": 4,
 "nbformat_minor": 1
}
