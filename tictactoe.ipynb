{
 "cells": [
  {
   "cell_type": "code",
   "execution_count": 8,
   "metadata": {
    "collapsed": false
   },
   "outputs": [],
   "source": [
    "class Board():\n",
    "    spaces = []\n",
    "    def __init__(self):\n",
    "        for num in xrange(0,10):\n",
    "            self.spaces.append(' ')\n",
    "    def placeBoard(self, space, player):\n",
    "        self.spaces[space] = player\n",
    "    def printBoard(self):\n",
    "        print (self.spaces[0] + \"|\" + self.spaces[1] + \"|\" + self.spaces[2])\n",
    "        print ('-----')\n",
    "        print (self.spaces[3] + \"|\" + self.spaces[4] + \"|\" + self.spaces[5])\n",
    "        print ('-----')\n",
    "        print (self.spaces[6] + \"|\" + self.spaces[7] + \"|\" + self.spaces[8])\n",
    "    def checkWin(self, player):\n",
    "        if(self.spaces[0] == self.spaces[1] == self.spaces[2] == player.name):\n",
    "            return True\n",
    "        elif(self.spaces[3] == self.spaces[4] == self.spaces[5]  == player.name):\n",
    "            return True\n",
    "        elif(self.spaces[6] == self.spaces[7] == self.spaces[8]  == player.name):\n",
    "            return True\n",
    "        elif(self.spaces[0] == self.spaces[3] == self.spaces[6] == player.name):\n",
    "            return True\n",
    "        elif(self.spaces[1] == self.spaces[4] == self.spaces[7]  == player.name):\n",
    "            return True\n",
    "        elif(self.spaces[2] == self.spaces[5] == self.spaces[8]  == player.name):\n",
    "            return True\n",
    "        elif(self.spaces[0] == self.spaces[4] == self.spaces[8]  == player.name):\n",
    "            return True\n",
    "        elif(self.spaces[2] == self.spaces[4] == self.spaces[6]  == player.name):\n",
    "            return True\n",
    "        else:\n",
    "            return False"
   ]
  },
  {
   "cell_type": "code",
   "execution_count": 9,
   "metadata": {
    "collapsed": true
   },
   "outputs": [],
   "source": [
    "class Player():\n",
    "    def __init__(self, name):\n",
    "        self.name = name\n",
    "        self.moves = []\n",
    "    def move(self, space):\n",
    "        self.moves.append(space)"
   ]
  },
  {
   "cell_type": "code",
   "execution_count": 10,
   "metadata": {
    "collapsed": false
   },
   "outputs": [],
   "source": [
    "class Game():\n",
    "    board = Board()\n",
    "    player_X = Player(\"X\")\n",
    "    player_O = Player(\"O\")\n",
    "    won = False\n",
    "    turn = 0\n",
    "    \n",
    "    def takeTurn(self):\n",
    "        self.turn += 1\n",
    "        move = input('Player X Move: ')\n",
    "        if (self.board.spaces[move] != 'X' and self.board.spaces[move] != 'O'):\n",
    "            self.player_X.move(move)\n",
    "            self.board.placeBoard(move, self.player_X.name)\n",
    "            self.board.printBoard()\n",
    "            if (self.board.checkWin(self.player_X) == True):\n",
    "                self.won = True\n",
    "                self.winning_player = self.player_X\n",
    "        if (self.won != True):\n",
    "            move = input('Player O Move: ')\n",
    "            if (self.board.spaces[move] != 'X' and self.board.spaces[move] != 'O'):\n",
    "                self.player_O.move(move)\n",
    "                self.board.placeBoard(move, self.player_O.name)\n",
    "                self.board.printBoard()\n",
    "                if (self.board.checkWin(self.player_O) == True):\n",
    "                    self.won = True\n",
    "                    self.winning_player = self.player_O"
   ]
  },
  {
   "cell_type": "code",
   "execution_count": 11,
   "metadata": {
    "collapsed": true
   },
   "outputs": [],
   "source": [
    "def runGame():\n",
    "    new_game = Game()\n",
    "    new_game.board.printBoard()\n",
    "    while (new_game.won == False and new_game.board.spaces.count(' ') != 0):\n",
    "        new_game.takeTurn()\n",
    "    if (new_game.board.spaces.count(' ') == 0):\n",
    "        print \"It's a tie\"\n",
    "    else:\n",
    "        print new_game.winning_player.name + \" Won!!!\""
   ]
  },
  {
   "cell_type": "code",
   "execution_count": 12,
   "metadata": {
    "collapsed": true
   },
   "outputs": [],
   "source": [
    "def playAgain():\n",
    "    play_again = input('Play again [Y/n]? ')\n",
    "    if (play_again == 'Y' or play_again == 'y'):\n",
    "        runGame()"
   ]
  },
  {
   "cell_type": "code",
   "execution_count": 13,
   "metadata": {
    "collapsed": true
   },
   "outputs": [],
   "source": [
    "def playGame():\n",
    "    runGame()\n",
    "    playAgain()"
   ]
  },
  {
   "cell_type": "code",
   "execution_count": 14,
   "metadata": {
    "collapsed": false
   },
   "outputs": [
    {
     "name": "stdout",
     "output_type": "stream",
     "text": [
      " | | \n",
      "-----\n",
      " | | \n",
      "-----\n",
      " | | \n",
      "Player X Move: 0\n",
      "X| | \n",
      "-----\n",
      " | | \n",
      "-----\n",
      " | | \n",
      "Player O Move: 1\n",
      "X|O| \n",
      "-----\n",
      " | | \n",
      "-----\n",
      " | | \n",
      "Player X Move: 3\n",
      "X|O| \n",
      "-----\n",
      "X| | \n",
      "-----\n",
      " | | \n",
      "Player O Move: 6\n",
      "X|O| \n",
      "-----\n",
      "X| | \n",
      "-----\n",
      "O| | \n",
      "Player X Move: 4\n",
      "X|O| \n",
      "-----\n",
      "X|X| \n",
      "-----\n",
      "O| | \n",
      "Player O Move: 5\n",
      "X|O| \n",
      "-----\n",
      "X|X|O\n",
      "-----\n",
      "O| | \n",
      "Player X Move: 8\n",
      "X|O| \n",
      "-----\n",
      "X|X|O\n",
      "-----\n",
      "O| |X\n",
      "X Won!!!\n",
      "Play again [Y/n]? y\n"
     ]
    },
    {
     "ename": "NameError",
     "evalue": "name 'y' is not defined",
     "output_type": "error",
     "traceback": [
      "\u001b[0;31m---------------------------------------------------------------------------\u001b[0m",
      "\u001b[0;31mNameError\u001b[0m                                 Traceback (most recent call last)",
      "\u001b[0;32m<ipython-input-14-f9ca462a7b7f>\u001b[0m in \u001b[0;36m<module>\u001b[0;34m()\u001b[0m\n\u001b[1;32m      1\u001b[0m \u001b[0;34m\u001b[0m\u001b[0m\n\u001b[0;32m----> 2\u001b[0;31m \u001b[0mplayGame\u001b[0m\u001b[0;34m(\u001b[0m\u001b[0;34m)\u001b[0m\u001b[0;34m\u001b[0m\u001b[0m\n\u001b[0m",
      "\u001b[0;32m<ipython-input-13-e1f8476b9161>\u001b[0m in \u001b[0;36mplayGame\u001b[0;34m()\u001b[0m\n\u001b[1;32m      1\u001b[0m \u001b[0;32mdef\u001b[0m \u001b[0mplayGame\u001b[0m\u001b[0;34m(\u001b[0m\u001b[0;34m)\u001b[0m\u001b[0;34m:\u001b[0m\u001b[0;34m\u001b[0m\u001b[0m\n\u001b[1;32m      2\u001b[0m     \u001b[0mrunGame\u001b[0m\u001b[0;34m(\u001b[0m\u001b[0;34m)\u001b[0m\u001b[0;34m\u001b[0m\u001b[0m\n\u001b[0;32m----> 3\u001b[0;31m     \u001b[0mplayAgain\u001b[0m\u001b[0;34m(\u001b[0m\u001b[0;34m)\u001b[0m\u001b[0;34m\u001b[0m\u001b[0m\n\u001b[0m",
      "\u001b[0;32m<ipython-input-12-cd722825acb9>\u001b[0m in \u001b[0;36mplayAgain\u001b[0;34m()\u001b[0m\n\u001b[1;32m      1\u001b[0m \u001b[0;32mdef\u001b[0m \u001b[0mplayAgain\u001b[0m\u001b[0;34m(\u001b[0m\u001b[0;34m)\u001b[0m\u001b[0;34m:\u001b[0m\u001b[0;34m\u001b[0m\u001b[0m\n\u001b[0;32m----> 2\u001b[0;31m     \u001b[0mplay_again\u001b[0m \u001b[0;34m=\u001b[0m \u001b[0minput\u001b[0m\u001b[0;34m(\u001b[0m\u001b[0;34m'Play again [Y/n]? '\u001b[0m\u001b[0;34m)\u001b[0m\u001b[0;34m\u001b[0m\u001b[0m\n\u001b[0m\u001b[1;32m      3\u001b[0m     \u001b[0;32mif\u001b[0m \u001b[0;34m(\u001b[0m\u001b[0mplay_again\u001b[0m \u001b[0;34m==\u001b[0m \u001b[0;34m'Y'\u001b[0m \u001b[0;32mor\u001b[0m \u001b[0mplay_again\u001b[0m \u001b[0;34m==\u001b[0m \u001b[0;34m'y'\u001b[0m\u001b[0;34m)\u001b[0m\u001b[0;34m:\u001b[0m\u001b[0;34m\u001b[0m\u001b[0m\n\u001b[1;32m      4\u001b[0m         \u001b[0mrunGame\u001b[0m\u001b[0;34m(\u001b[0m\u001b[0;34m)\u001b[0m\u001b[0;34m\u001b[0m\u001b[0m\n",
      "\u001b[0;32m/Users/briangrant/anaconda/lib/python2.7/site-packages/ipykernel/ipkernel.pyc\u001b[0m in \u001b[0;36m<lambda>\u001b[0;34m(prompt)\u001b[0m\n\u001b[1;32m    162\u001b[0m             \u001b[0mself\u001b[0m\u001b[0;34m.\u001b[0m\u001b[0m_sys_eval_input\u001b[0m \u001b[0;34m=\u001b[0m \u001b[0mbuiltin_mod\u001b[0m\u001b[0;34m.\u001b[0m\u001b[0minput\u001b[0m\u001b[0;34m\u001b[0m\u001b[0m\n\u001b[1;32m    163\u001b[0m             \u001b[0mbuiltin_mod\u001b[0m\u001b[0;34m.\u001b[0m\u001b[0mraw_input\u001b[0m \u001b[0;34m=\u001b[0m \u001b[0mself\u001b[0m\u001b[0;34m.\u001b[0m\u001b[0mraw_input\u001b[0m\u001b[0;34m\u001b[0m\u001b[0m\n\u001b[0;32m--> 164\u001b[0;31m             \u001b[0mbuiltin_mod\u001b[0m\u001b[0;34m.\u001b[0m\u001b[0minput\u001b[0m \u001b[0;34m=\u001b[0m \u001b[0;32mlambda\u001b[0m \u001b[0mprompt\u001b[0m\u001b[0;34m=\u001b[0m\u001b[0;34m''\u001b[0m\u001b[0;34m:\u001b[0m \u001b[0meval\u001b[0m\u001b[0;34m(\u001b[0m\u001b[0mself\u001b[0m\u001b[0;34m.\u001b[0m\u001b[0mraw_input\u001b[0m\u001b[0;34m(\u001b[0m\u001b[0mprompt\u001b[0m\u001b[0;34m)\u001b[0m\u001b[0;34m)\u001b[0m\u001b[0;34m\u001b[0m\u001b[0m\n\u001b[0m\u001b[1;32m    165\u001b[0m         \u001b[0mself\u001b[0m\u001b[0;34m.\u001b[0m\u001b[0m_save_getpass\u001b[0m \u001b[0;34m=\u001b[0m \u001b[0mgetpass\u001b[0m\u001b[0;34m.\u001b[0m\u001b[0mgetpass\u001b[0m\u001b[0;34m\u001b[0m\u001b[0m\n\u001b[1;32m    166\u001b[0m         \u001b[0mgetpass\u001b[0m\u001b[0;34m.\u001b[0m\u001b[0mgetpass\u001b[0m \u001b[0;34m=\u001b[0m \u001b[0mself\u001b[0m\u001b[0;34m.\u001b[0m\u001b[0mgetpass\u001b[0m\u001b[0;34m\u001b[0m\u001b[0m\n",
      "\u001b[0;32m/Users/briangrant/anaconda/lib/python2.7/site-packages/ipykernel/ipkernel.pyc\u001b[0m in \u001b[0;36m<module>\u001b[0;34m()\u001b[0m\n",
      "\u001b[0;31mNameError\u001b[0m: name 'y' is not defined"
     ]
    }
   ],
   "source": [
    "\n",
    "playGame()"
   ]
  },
  {
   "cell_type": "markdown",
   "metadata": {
    "collapsed": false
   },
   "source": [
    "### "
   ]
  },
  {
   "cell_type": "code",
   "execution_count": null,
   "metadata": {
    "collapsed": true
   },
   "outputs": [],
   "source": []
  },
  {
   "cell_type": "code",
   "execution_count": null,
   "metadata": {
    "collapsed": true
   },
   "outputs": [],
   "source": []
  }
 ],
 "metadata": {
  "anaconda-cloud": {},
  "kernelspec": {
   "display_name": "Python [default]",
   "language": "python",
   "name": "python2"
  },
  "language_info": {
   "codemirror_mode": {
    "name": "ipython",
    "version": 2
   },
   "file_extension": ".py",
   "mimetype": "text/x-python",
   "name": "python",
   "nbconvert_exporter": "python",
   "pygments_lexer": "ipython2",
   "version": "2.7.12"
  }
 },
 "nbformat": 4,
 "nbformat_minor": 1
}
