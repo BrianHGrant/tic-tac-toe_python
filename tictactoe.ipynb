{
 "cells": [
  {
   "cell_type": "code",
   "execution_count": 88,
   "metadata": {
    "collapsed": false
   },
   "outputs": [],
   "source": [
    "class Board():\n",
    "    spaces = []\n",
    "    def __init__(self):\n",
    "        for num in xrange(0,10):\n",
    "            self.spaces.append(' ')\n",
    "    def placeBoard(self, space, player):\n",
    "        self.spaces[space] = player\n",
    "    def printBoard(self):\n",
    "        print (self.spaces[0] + \"|\" + self.spaces[1] + \"|\" + self.spaces[2])\n",
    "        print ('-----')\n",
    "        print (self.spaces[3] + \"|\" + self.spaces[4] + \"|\" + self.spaces[5])\n",
    "        print ('-----')\n",
    "        print (self.spaces[6] + \"|\" + self.spaces[7] + \"|\" + self.spaces[8])"
   ]
  },
  {
   "cell_type": "code",
   "execution_count": 89,
   "metadata": {
    "collapsed": true
   },
   "outputs": [],
   "source": [
    "class Player():\n",
    "    def __init__(self, name):\n",
    "        self.name = name\n",
    "        self.moves = []\n",
    "    def move(self, space):\n",
    "        self.moves.append(space)"
   ]
  },
  {
   "cell_type": "code",
   "execution_count": 90,
   "metadata": {
    "collapsed": false
   },
   "outputs": [],
   "source": [
    "class Game():\n",
    "    board = Board()\n",
    "    player_X = Player(\"X\")\n",
    "    player_Y = Player(\"Y\")\n",
    "    \n",
    "    def takeTurn(self):\n",
    "        move = input('Player X Move: ')\n",
    "        self.player_X.move(space)\n",
    "        "
   ]
  },
  {
   "cell_type": "code",
   "execution_count": null,
   "metadata": {
    "collapsed": true
   },
   "outputs": [],
   "source": []
  },
  {
   "cell_type": "code",
   "execution_count": 93,
   "metadata": {
    "collapsed": true
   },
   "outputs": [],
   "source": [
    "def playGame():\n",
    "    new_game = Game()\n",
    "    new_game.board.printBoard()"
   ]
  },
  {
   "cell_type": "code",
   "execution_count": 94,
   "metadata": {
    "collapsed": false
   },
   "outputs": [
    {
     "name": "stdout",
     "output_type": "stream",
     "text": [
      " | | \n",
      "-----\n",
      " | | \n",
      "-----\n",
      " | | \n",
      "X\n"
     ]
    }
   ],
   "source": [
    "playGame()"
   ]
  },
  {
   "cell_type": "code",
   "execution_count": null,
   "metadata": {
    "collapsed": true
   },
   "outputs": [],
   "source": []
  },
  {
   "cell_type": "code",
   "execution_count": null,
   "metadata": {
    "collapsed": true
   },
   "outputs": [],
   "source": []
  }
 ],
 "metadata": {
  "kernelspec": {
   "display_name": "Python [default]",
   "language": "python",
   "name": "python2"
  },
  "language_info": {
   "codemirror_mode": {
    "name": "ipython",
    "version": 2
   },
   "file_extension": ".py",
   "mimetype": "text/x-python",
   "name": "python",
   "nbconvert_exporter": "python",
   "pygments_lexer": "ipython2",
   "version": "2.7.12"
  }
 },
 "nbformat": 4,
 "nbformat_minor": 1
}
